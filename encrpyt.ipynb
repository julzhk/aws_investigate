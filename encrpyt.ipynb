{
 "cells": [
  {
   "cell_type": "code",
   "execution_count": 5,
   "metadata": {
    "pycharm": {
     "name": "#%%\n"
    }
   },
   "outputs": [],
   "source": [
    "from Crypto.Random import get_random_bytes\n",
    "from Crypto.Cipher import AES\n",
    "from Crypto.Protocol.KDF import scrypt\n",
    "import os\n",
    "\n",
    "# see https://nitratine.net/blog/post/python-gcm-encryption-tutorial/\n",
    "\n",
    "class Encryptor:\n",
    "    BUFFER_SIZE = 1024 * 1024  # The size in bytes that we read, encrypt and write to at once\n",
    "    password = \"password\"\n",
    "    SALT_LENGTH = 32\n",
    "    NONCE_LENGTH = 16\n",
    "    TAG_LENGTH = 16\n",
    "    salt = get_random_bytes(SALT_LENGTH)\n",
    "    key = scrypt(password, salt, key_len=32, N=2 ** 17, r=8, p=1)\n",
    "    cipher = AES.new(key, AES.MODE_GCM)\n",
    "    file_in = None\n",
    "    file_out = None\n",
    "\n",
    "    def __init__(self,input_filename = 't.txt', output_filename='t.txt.encrypted'):\n",
    "        self.output_filename = output_filename\n",
    "        self.input_filename = input_filename\n",
    "\n",
    "    def generate_encrypted_filename(self):\n",
    "        return self.input_filename + '.encrypted'\n",
    "\n",
    "    def write_header(self, file_out):\n",
    "        file_out.write(self.salt)\n",
    "        file_out.write(self.cipher.nonce)\n",
    "\n",
    "    def write_body(self, file_in, file_out):\n",
    "        while len(data := file_in.read(self.BUFFER_SIZE)):\n",
    "            encrypted_data = self.cipher.encrypt(data)\n",
    "            file_out.write(encrypted_data)\n",
    "\n",
    "    def write_footer(self, file_out):\n",
    "        tag = self.cipher.digest()\n",
    "        assert len(tag) == self.TAG_LENGTH\n",
    "        file_out.write(tag)\n",
    "\n",
    "    def do_encryption(self):\n",
    "        with open(self.output_filename, 'wb') as file_out, \\\n",
    "             open(self.input_filename, 'rb') as file_in:\n",
    "            self.write_header(file_out)\n",
    "            self.write_body(file_in, file_out)\n",
    "            self.write_footer(file_out)\n",
    "\n",
    "    def do_decryption(self):\n",
    "        with open(self.output_filename, 'wb') as file_out, \\\n",
    "             open(self.input_filename, 'rb') as file_in:\n",
    "                self.read_file_in(file_in)\n",
    "                self.read_and_output(file_in,file_out)\n",
    "                self.verify(file_in)\n",
    "\n",
    "    def read_file_in(self, file_in):\n",
    "        self.salt = file_in.read(self.SALT_LENGTH)  # The salt we generated was 32 bits long\n",
    "        nonce = file_in.read(self.NONCE_LENGTH)\n",
    "        self.cipher = AES.new(self.key, AES.MODE_GCM, nonce=nonce)\n",
    "\n",
    "    def read_and_output(self, file_in,file_out):\n",
    "        file_in_size = os.path.getsize(self.input_filename)\n",
    "        encrypted_data_size = file_in_size - self.SALT_LENGTH - self.NONCE_LENGTH - self.TAG_LENGTH  # Total - salt - nonce - tag = encrypted data\n",
    "        # Read, decrypt and write out the data\n",
    "        for chunk_size in RangeAndRemainder(encrypted_data_size,self.BUFFER_SIZE):\n",
    "            data = file_in.read(chunk_size)\n",
    "            decrypted_data = self.cipher.decrypt(data)\n",
    "            file_out.write(decrypted_data)\n",
    "\n",
    "    def verify(self,file_in):\n",
    "        # Verify encrypted file is correct\n",
    "        tag = file_in.read(16)\n",
    "        self.cipher.verify(tag)\n",
    "\n",
    "def RangeAndRemainder(whole, chunk):\n",
    "    # yields equal chunks, then finishes with the remainder\n",
    "    quot,remainder = divmod(whole,chunk)\n",
    "    for _ in range(quot):\n",
    "        yield chunk\n",
    "    yield remainder\n",
    "\n",
    "\n",
    "\n",
    "e = Encryptor(input_filename = 'requirements.txt', output_filename='t.txt.encrypted')\n",
    "e.do_encryption()\n",
    "\n",
    "e = Encryptor(input_filename = 't.txt.encrypted', output_filename='t3.txt')\n",
    "e.do_decryption()"
   ]
  },
  {
   "cell_type": "code",
   "execution_count": null,
   "metadata": {
    "pycharm": {
     "name": "#%%\n"
    }
   },
   "outputs": [],
   "source": [
    "import mmap\n",
    "\n",
    "def mmap_io(filename):\n",
    "    with open(filename, mode=\"r\", encoding=\"utf8\") as file_obj:\n",
    "        with mmap.mmap(file_obj.fileno(), length=0, access=mmap.ACCESS_READ) as mmap_obj:\n",
    "            text = mmap_obj.read()\n",
    "            print(text)\n",
    "mmap_io(filename='t.txt')"
   ]
  }
 ],
 "metadata": {
  "kernelspec": {
   "display_name": "Python 3",
   "language": "python",
   "name": "python3"
  },
  "language_info": {
   "codemirror_mode": {
    "name": "ipython",
    "version": 3
   },
   "file_extension": ".py",
   "mimetype": "text/x-python",
   "name": "python",
   "nbconvert_exporter": "python",
   "pygments_lexer": "ipython3",
   "version": "3.8.1"
  }
 },
 "nbformat": 4,
 "nbformat_minor": 1
}