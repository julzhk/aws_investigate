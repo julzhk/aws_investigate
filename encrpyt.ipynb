{
 "cells": [
  {
   "cell_type": "code",
   "execution_count": 7,
   "metadata": {
    "pycharm": {
     "name": "#%%\n"
    }
   },
   "outputs": [],
   "source": [
    "# see https://nitratine.net/blog/post/python-gcm-encryption-tutorial/\n",
    "\n",
    "from Crypto.Random import get_random_bytes\n",
    "from Crypto.Cipher import AES\n",
    "from Crypto.Protocol.KDF import scrypt\n",
    "\n",
    "BUFFER_SIZE = 1024 * 1024  # The size in bytes that we read, encrypt and write to at once\n",
    "\n",
    "password = \"password\"  # Get this from somewhere else like input()\n",
    "\n",
    "input_filename = 't.txt'  # Any file extension will work\n",
    "output_filename = input_filename + '.encrypted'  # You can name this anything, I'm just putting .encrypted on the end\n",
    "\n",
    "\n",
    "def write_header(file_out, salt, cipher):\n",
    "    file_out.write(salt)\n",
    "    file_out.write(cipher.nonce)\n",
    "\n",
    "\n",
    "def write_body(file_in, file_out, cipher):\n",
    "    while len(data := file_in.read(BUFFER_SIZE)):\n",
    "        encrypted_data = cipher.encrypt(data)  # Encrypt the data we read\n",
    "        file_out.write(encrypted_data)  # Write the encrypted data to the output file\n",
    "\n",
    "\n",
    "def write_footer(cipher, file_out):\n",
    "    tag = cipher.digest()  # Signal to the cipher that we are done and get the tag\n",
    "    file_out.write(tag)\n",
    "\n",
    "\n",
    "def generate_crypto_values(password):\n",
    "    salt = get_random_bytes(32)\n",
    "    key = scrypt(password, salt, key_len=32, N=2 ** 17, r=8, p=1)\n",
    "    cipher = AES.new(key, AES.MODE_GCM)\n",
    "    return salt, key, cipher\n",
    "\n",
    "with open(output_filename, 'wb') as  file_out:\n",
    "    salt, key, cipher = generate_crypto_values(password=password)\n",
    "    write_header(file_out=file_out, salt=salt, cipher=cipher)\n",
    "    with open(input_filename, 'rb') as  file_in:\n",
    "        write_body(file_in=file_in, file_out=file_out, cipher=cipher)\n",
    "    write_footer(cipher=cipher, file_out=file_out)\n"
   ]
  },
  {
   "cell_type": "code",
   "execution_count": 7,
   "metadata": {},
   "outputs": [],
   "source": []
  }
 ],
 "metadata": {
  "kernelspec": {
   "display_name": "Python 3",
   "language": "python",
   "name": "python3"
  },
  "language_info": {
   "codemirror_mode": {
    "name": "ipython",
    "version": 3
   },
   "file_extension": ".py",
   "mimetype": "text/x-python",
   "name": "python",
   "nbconvert_exporter": "python",
   "pygments_lexer": "ipython3",
   "version": "3.8.1"
  }
 },
 "nbformat": 4,
 "nbformat_minor": 1
}